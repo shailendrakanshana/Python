{
 "cells": [
  {
   "cell_type": "code",
   "execution_count": 14,
   "id": "fa6273e3",
   "metadata": {},
   "outputs": [],
   "source": [
    "from scipy.integrate import quad #Code written by Shailendra Singh Kanshana"
   ]
  },
  {
   "cell_type": "code",
   "execution_count": 15,
   "id": "f78e23d5",
   "metadata": {},
   "outputs": [],
   "source": [
    "def func(x):\n",
    "    return x*x"
   ]
  },
  {
   "cell_type": "code",
   "execution_count": 16,
   "id": "c0bc9e96",
   "metadata": {},
   "outputs": [
    {
     "data": {
      "text/plain": [
       "(0.33333333333333337, 3.700743415417189e-15)"
      ]
     },
     "execution_count": 16,
     "metadata": {},
     "output_type": "execute_result"
    }
   ],
   "source": [
    "quad(func , 0 ,1)"
   ]
  },
  {
   "cell_type": "code",
   "execution_count": 17,
   "id": "3f1eb4d5",
   "metadata": {},
   "outputs": [],
   "source": [
    "def func2(x,a,b):\n",
    "    return a*x+b"
   ]
  },
  {
   "cell_type": "code",
   "execution_count": 18,
   "id": "98558281",
   "metadata": {},
   "outputs": [
    {
     "data": {
      "text/plain": [
       "(3.5, 3.885780586188048e-14)"
      ]
     },
     "execution_count": 18,
     "metadata": {},
     "output_type": "execute_result"
    }
   ],
   "source": [
    "quad(func2,0,1,args=(3,2)) #specify the value of a and b"
   ]
  },
  {
   "cell_type": "code",
   "execution_count": 19,
   "id": "331eaca7",
   "metadata": {},
   "outputs": [],
   "source": [
    "import scipy.integrate as integrate"
   ]
  },
  {
   "cell_type": "code",
   "execution_count": 20,
   "id": "de6c1a9c",
   "metadata": {},
   "outputs": [],
   "source": [
    "def func3(x,y):\n",
    "    return x+y"
   ]
  },
  {
   "cell_type": "code",
   "execution_count": 21,
   "id": "eb3efaf9",
   "metadata": {},
   "outputs": [
    {
     "data": {
      "text/plain": [
       "(3.0, 4.436070580899685e-14)"
      ]
     },
     "execution_count": 21,
     "metadata": {},
     "output_type": "execute_result"
    }
   ],
   "source": [
    "integrate.dblquad(func3,0,1,lambda x:0,lambda x:2)"
   ]
  },
  {
   "cell_type": "code",
   "execution_count": 22,
   "id": "30f65879",
   "metadata": {},
   "outputs": [],
   "source": [
    "import numpy as np\n",
    "from scipy import optimize"
   ]
  },
  {
   "cell_type": "code",
   "execution_count": 23,
   "id": "89e14cc5",
   "metadata": {},
   "outputs": [],
   "source": [
    "def func4(x):\n",
    "    return x**2 + 5*np.sin(x)\n"
   ]
  },
  {
   "cell_type": "code",
   "execution_count": 24,
   "id": "8bb49e65",
   "metadata": {},
   "outputs": [
    {
     "name": "stdout",
     "output_type": "stream",
     "text": [
      "Optimization terminated successfully.\n",
      "         Current function value: -3.246394\n",
      "         Iterations: 5\n",
      "         Function evaluations: 18\n",
      "         Gradient evaluations: 9\n"
     ]
    }
   ],
   "source": [
    "minimavalue = optimize.minimize(func4,x0=2,method = 'bfgs',options = {'disp':True})"
   ]
  },
  {
   "cell_type": "code",
   "execution_count": null,
   "id": "1c44c575",
   "metadata": {},
   "outputs": [],
   "source": []
  }
 ],
 "metadata": {
  "kernelspec": {
   "display_name": "Python 3",
   "language": "python",
   "name": "python3"
  },
  "language_info": {
   "codemirror_mode": {
    "name": "ipython",
    "version": 3
   },
   "file_extension": ".py",
   "mimetype": "text/x-python",
   "name": "python",
   "nbconvert_exporter": "python",
   "pygments_lexer": "ipython3",
   "version": "3.9.5"
  }
 },
 "nbformat": 4,
 "nbformat_minor": 5
}
