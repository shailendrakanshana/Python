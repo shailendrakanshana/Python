{
 "cells": [
  {
   "cell_type": "code",
   "execution_count": 1,
   "id": "4e171194",
   "metadata": {},
   "outputs": [],
   "source": [
    "import sys"
   ]
  },
  {
   "cell_type": "code",
   "execution_count": 2,
   "id": "beb76eb5",
   "metadata": {},
   "outputs": [
    {
     "name": "stdout",
     "output_type": "stream",
     "text": [
      "3.9.5 (tags/v3.9.5:0a7dcbd, May  3 2021, 17:27:52) [MSC v.1928 64 bit (AMD64)]\n"
     ]
    }
   ],
   "source": [
    "print(sys.version)"
   ]
  },
  {
   "cell_type": "code",
   "execution_count": 3,
   "id": "279e22e6",
   "metadata": {},
   "outputs": [],
   "source": [
    "import platform"
   ]
  },
  {
   "cell_type": "code",
   "execution_count": 4,
   "id": "ceb09c33",
   "metadata": {},
   "outputs": [
    {
     "data": {
      "text/plain": [
       "'3.9.5'"
      ]
     },
     "execution_count": 4,
     "metadata": {},
     "output_type": "execute_result"
    }
   ],
   "source": [
    "platform.python_version()"
   ]
  },
  {
   "cell_type": "code",
   "execution_count": 5,
   "id": "c7510037",
   "metadata": {},
   "outputs": [],
   "source": [
    "#methamatical functions in numpy\n",
    "import numpy as np"
   ]
  },
  {
   "cell_type": "code",
   "execution_count": 6,
   "id": "0c187b66",
   "metadata": {},
   "outputs": [
    {
     "data": {
      "text/plain": [
       "array([1.41421356, 2.        , 3.        , 4.        ])"
      ]
     },
     "execution_count": 6,
     "metadata": {},
     "output_type": "execute_result"
    }
   ],
   "source": [
    "np_sqrt = np.sqrt([2,4,9,16])\n",
    "np_sqrt"
   ]
  },
  {
   "cell_type": "code",
   "execution_count": 7,
   "id": "b65cc248",
   "metadata": {},
   "outputs": [
    {
     "data": {
      "text/plain": [
       "1.0"
      ]
     },
     "execution_count": 7,
     "metadata": {},
     "output_type": "execute_result"
    }
   ],
   "source": [
    "np.cos(0)"
   ]
  },
  {
   "cell_type": "code",
   "execution_count": 8,
   "id": "c449fc82",
   "metadata": {},
   "outputs": [
    {
     "data": {
      "text/plain": [
       "6.123233995736766e-17"
      ]
     },
     "execution_count": 8,
     "metadata": {},
     "output_type": "execute_result"
    }
   ],
   "source": [
    "from numpy import pi\n",
    "np.cos(pi/2)"
   ]
  },
  {
   "cell_type": "code",
   "execution_count": 9,
   "id": "bf9a4a85",
   "metadata": {},
   "outputs": [
    {
     "data": {
      "text/plain": [
       "1.0"
      ]
     },
     "execution_count": 9,
     "metadata": {},
     "output_type": "execute_result"
    }
   ],
   "source": [
    "np.sin(pi/2)"
   ]
  },
  {
   "cell_type": "code",
   "execution_count": 10,
   "id": "c23730ab",
   "metadata": {},
   "outputs": [
    {
     "data": {
      "text/plain": [
       "-1.0"
      ]
     },
     "execution_count": 10,
     "metadata": {},
     "output_type": "execute_result"
    }
   ],
   "source": [
    "np.cos(pi)"
   ]
  },
  {
   "cell_type": "code",
   "execution_count": 11,
   "id": "ffc0dada",
   "metadata": {},
   "outputs": [
    {
     "data": {
      "text/plain": [
       "array([ 10,  23,  11,  12,  34,  12,  56, 678, 789])"
      ]
     },
     "execution_count": 11,
     "metadata": {},
     "output_type": "execute_result"
    }
   ],
   "source": [
    "l1  = [10,23,11,12,34,12,56,678,789]\n",
    "np_arr = np.array(l1)\n",
    "np_arr"
   ]
  },
  {
   "cell_type": "code",
   "execution_count": 12,
   "id": "93b2a2dc",
   "metadata": {},
   "outputs": [
    {
     "data": {
      "text/plain": [
       "array([[ 10,  23,  11],\n",
       "       [ 12,  34,  12],\n",
       "       [ 56, 678, 789]])"
      ]
     },
     "execution_count": 12,
     "metadata": {},
     "output_type": "execute_result"
    }
   ],
   "source": [
    "np_arr.reshape(3,3)"
   ]
  },
  {
   "cell_type": "code",
   "execution_count": 13,
   "id": "48329949",
   "metadata": {},
   "outputs": [
    {
     "data": {
      "text/plain": [
       "array([ 10,  23,  11,  12,  34,  12,  56, 678, 789])"
      ]
     },
     "execution_count": 13,
     "metadata": {},
     "output_type": "execute_result"
    }
   ],
   "source": [
    "np_arr.ravel()"
   ]
  },
  {
   "cell_type": "code",
   "execution_count": 14,
   "id": "58d1257b",
   "metadata": {},
   "outputs": [],
   "source": [
    "np_ar = np_arr.reshape(3,3)"
   ]
  },
  {
   "cell_type": "code",
   "execution_count": 15,
   "id": "cbc2a3b0",
   "metadata": {},
   "outputs": [],
   "source": [
    "np_ar = np_ar.transpose()"
   ]
  },
  {
   "cell_type": "code",
   "execution_count": 16,
   "id": "f299a88c",
   "metadata": {},
   "outputs": [
    {
     "data": {
      "text/plain": [
       "array([[ 10,  12,  56],\n",
       "       [ 23,  34, 678],\n",
       "       [ 11,  12, 789]])"
      ]
     },
     "execution_count": 16,
     "metadata": {},
     "output_type": "execute_result"
    }
   ],
   "source": [
    "np_ar"
   ]
  },
  {
   "cell_type": "code",
   "execution_count": 17,
   "id": "86dec89b",
   "metadata": {},
   "outputs": [
    {
     "data": {
      "text/plain": [
       "833"
      ]
     },
     "execution_count": 17,
     "metadata": {},
     "output_type": "execute_result"
    }
   ],
   "source": [
    "np_ar.trace()"
   ]
  },
  {
   "cell_type": "code",
   "execution_count": 18,
   "id": "f307b6e3",
   "metadata": {},
   "outputs": [],
   "source": [
    "countries  = np.array(['Algeria','Angola','Argentina','Australia','Austria','Bahamas','Bangladesh','Belarus','Belgium','Bhutan','Brazil','Bulgaria','Cambodia','Cameroon','Chile','China','Colombia','Cyprus','Denmark','El Salvador','Estonia','Ethiopia','Fiji','Finland','France','Georgia','Ghana','Grenada','Guinea','Haiti','Honduras','Hungary','India','Indonesia','Ireland','Italy','Japan','Kenya', 'South Korea','Liberia','Malaysia','Mexico', 'Morocco','Nepal','New Zealand','Norway','Pakistan', 'Peru','Qatar','Russia','Singapore','South Africa','Spain','Sweden','Switzerland','Thailand', 'United Arab Emirates','United Kingdom','United States','Uruguay','Venezuela','Vietnam','Zimbabwe'])\n",
    "gdp = np.array([2255.225482,629.9553062,11601.63022,25306.82494,27266.40335,19466.99052,588.3691778,2890.345675,24733.62696,1445.760002,4803.398244,2618.876037,590.4521124,665.7982328,7122.938458,2639.54156,3362.4656,15378.16704,30860.12808,2579.115607,6525.541272,229.6769525,2242.689259,27570.4852,23016.84778,1334.646773,402.6953275,6047.200797,394.1156638,385.5793827,1414.072488,5745.981529,837.7464011,1206.991065,27715.52837,18937.24998,39578.07441,478.2194906,16684.21278,279.2204061,5345.213415,6288.25324,1908.304416,274.8728621,14646.42094,40034.85063,672.1547506,3359.517402,36152.66676,3054.727742,33529.83052,3825.093781,15428.32098,33630.24604,39170.41371,2699.123242,21058.43643,28272.40661,37691.02733,9581.05659,5671.912202,757.4009286,347.7456605])"
   ]
  },
  {
   "cell_type": "code",
   "execution_count": 22,
   "id": "d6057818",
   "metadata": {},
   "outputs": [],
   "source": [
    "i = gdp.argmax()\n",
    "#max1 = gdp.max()\n",
    "max_gdp_country = countries[i]\n",
    "#print(max1)"
   ]
  },
  {
   "cell_type": "code",
   "execution_count": 23,
   "id": "41ae6d19",
   "metadata": {},
   "outputs": [
    {
     "data": {
      "text/plain": [
       "'Norway'"
      ]
     },
     "execution_count": 23,
     "metadata": {},
     "output_type": "execute_result"
    }
   ],
   "source": [
    "max_gdp_country"
   ]
  },
  {
   "cell_type": "markdown",
   "id": "c6a09ebf",
   "metadata": {},
   "source": []
  },
  {
   "cell_type": "code",
   "execution_count": 24,
   "id": "e86bb100",
   "metadata": {},
   "outputs": [
    {
     "data": {
      "text/plain": [
       "'Ethiopia'"
      ]
     },
     "execution_count": 24,
     "metadata": {},
     "output_type": "execute_result"
    }
   ],
   "source": [
    "j = gdp.argmin() \n",
    "min_gdp_country = countries[j]\n",
    "min_gdp_country"
   ]
  },
  {
   "cell_type": "code",
   "execution_count": 43,
   "id": "86b85ba4",
   "metadata": {},
   "outputs": [
    {
     "name": "stdout",
     "output_type": "stream",
     "text": [
      "Countries \t GDP\n",
      "---------------------------\n",
      "Algeria        2255.225482\n",
      "Angola        629.9553062\n",
      "Argentina        11601.63022\n",
      "Australia        25306.82494\n",
      "Austria        27266.40335\n",
      "Bahamas        19466.99052\n",
      "Bangladesh        588.3691778\n",
      "Belarus        2890.345675\n",
      "Belgium        24733.62696\n",
      "Bhutan        1445.760002\n",
      "Brazil        4803.398244\n",
      "Bulgaria        2618.876037\n",
      "Cambodia        590.4521124\n",
      "Cameroon        665.7982328\n",
      "Chile        7122.938458\n",
      "China        2639.54156\n",
      "Colombia        3362.4656\n",
      "Cyprus        15378.16704\n",
      "Denmark        30860.12808\n",
      "El Salvador        2579.115607\n",
      "Estonia        6525.541272\n",
      "Ethiopia        229.6769525\n",
      "Fiji        2242.689259\n",
      "Finland        27570.4852\n",
      "France        23016.84778\n",
      "Georgia        1334.646773\n",
      "Ghana        402.6953275\n",
      "Grenada        6047.200797\n",
      "Guinea        394.1156638\n",
      "Haiti        385.5793827\n",
      "Honduras        1414.072488\n",
      "Hungary        5745.981529\n",
      "India        837.7464011\n",
      "Indonesia        1206.991065\n",
      "Ireland        27715.52837\n",
      "Italy        18937.24998\n",
      "Japan        39578.07441\n",
      "Kenya        478.2194906\n",
      "South Korea        16684.21278\n",
      "Liberia        279.2204061\n",
      "Malaysia        5345.213415\n",
      "Mexico        6288.25324\n",
      "Morocco        1908.304416\n",
      "Nepal        274.8728621\n",
      "New Zealand        14646.42094\n",
      "Norway        40034.85063\n",
      "Pakistan        672.1547506\n",
      "Peru        3359.517402\n",
      "Qatar        36152.66676\n",
      "Russia        3054.727742\n",
      "Singapore        33529.83052\n",
      "South Africa        3825.093781\n",
      "Spain        15428.32098\n",
      "Sweden        33630.24604\n",
      "Switzerland        39170.41371\n",
      "Thailand        2699.123242\n",
      "United Arab Emirates        21058.43643\n",
      "United Kingdom        28272.40661\n",
      "United States        37691.02733\n",
      "Uruguay        9581.05659\n",
      "Venezuela        5671.912202\n",
      "Vietnam        757.4009286\n",
      "Zimbabwe        347.7456605\n"
     ]
    }
   ],
   "source": [
    "print(\"Countries\",\"\\t\",\"GDP\")\n",
    "print(\"---------------------------\")\n",
    "for i in range(len(countries)):\n",
    "    print(countries[i],\"      \",gdp[i])"
   ]
  },
  {
   "cell_type": "code",
   "execution_count": 44,
   "id": "63d4a4a9",
   "metadata": {},
   "outputs": [
    {
     "name": "stdout",
     "output_type": "stream",
     "text": [
      "40034.85063\n",
      "229.6769525\n",
      "11289.409271639683\n",
      "12743.828910617945\n",
      "711232.7841133\n"
     ]
    }
   ],
   "source": [
    "print(gdp.max())\n",
    "print(gdp.min())\n",
    "print(gdp.mean())\n",
    "print(gdp.std())\n",
    "print(gdp.sum())"
   ]
  },
  {
   "cell_type": "code",
   "execution_count": 47,
   "id": "ecf795d9",
   "metadata": {},
   "outputs": [],
   "source": [
    "\n",
    "#Counrty Goal Analysis\n",
    "country = np.array(['Great Britain','China','Russia','United States','Korea','Japan','Germany'])\n",
    "gold = np.array([29,38,24,46,13,7,11])\n",
    "silver = np.array([17,28,25,28,8,14,11])\n",
    "bronze = np.array([19,22,32,29,7,17,14])\n"
   ]
  },
  {
   "cell_type": "code",
   "execution_count": 49,
   "id": "e4b052d1",
   "metadata": {},
   "outputs": [
    {
     "name": "stdout",
     "output_type": "stream",
     "text": [
      "United States\n"
     ]
    }
   ],
   "source": [
    "max_gold = gold.argmax()\n",
    "max_gold_country = country[max_gold]\n",
    "print(max_gold_country)"
   ]
  },
  {
   "cell_type": "code",
   "execution_count": 50,
   "id": "d463c824",
   "metadata": {},
   "outputs": [
    {
     "name": "stdout",
     "output_type": "stream",
     "text": [
      "Japan\n"
     ]
    }
   ],
   "source": [
    "min_gold = gold.argmin()\n",
    "min_gold_country = country[min_gold]\n",
    "print(min_gold_country)"
   ]
  },
  {
   "cell_type": "code",
   "execution_count": 52,
   "id": "76deb399",
   "metadata": {},
   "outputs": [
    {
     "name": "stdout",
     "output_type": "stream",
     "text": [
      "China\n"
     ]
    }
   ],
   "source": [
    "max_silver = silver.argmax()\n",
    "max_silver_country = country[max_silver]\n",
    "print(max_silver_country)"
   ]
  },
  {
   "cell_type": "code",
   "execution_count": 53,
   "id": "9bc840bc",
   "metadata": {},
   "outputs": [
    {
     "name": "stdout",
     "output_type": "stream",
     "text": [
      "Korea\n"
     ]
    }
   ],
   "source": [
    "min_silver = silver.argmin()\n",
    "min_silver_country = country[min_silver]\n",
    "print(min_silver_country)"
   ]
  },
  {
   "cell_type": "code",
   "execution_count": 54,
   "id": "68532158",
   "metadata": {},
   "outputs": [
    {
     "name": "stdout",
     "output_type": "stream",
     "text": [
      "Russia\n"
     ]
    }
   ],
   "source": [
    "max_bronze = bronze.argmax()\n",
    "max_bronze_country = country[max_bronze]\n",
    "print(max_bronze_country)"
   ]
  },
  {
   "cell_type": "code",
   "execution_count": 55,
   "id": "ffceb826",
   "metadata": {},
   "outputs": [
    {
     "name": "stdout",
     "output_type": "stream",
     "text": [
      "Korea\n"
     ]
    }
   ],
   "source": [
    "min_bronze = bronze.argmin()\n",
    "min_bronze_country = country[min_bronze]\n",
    "print(min_bronze_country)"
   ]
  },
  {
   "cell_type": "code",
   "execution_count": 56,
   "id": "6b07adfc",
   "metadata": {},
   "outputs": [
    {
     "name": "stdout",
     "output_type": "stream",
     "text": [
      "['Great Britain' 'China' 'Russia' 'United States']\n"
     ]
    }
   ],
   "source": [
    "print(country[gold>20])"
   ]
  },
  {
   "cell_type": "code",
   "execution_count": 63,
   "id": "3ac97d6d",
   "metadata": {},
   "outputs": [
    {
     "name": "stdout",
     "output_type": "stream",
     "text": [
      "Great Britain        Gold =  29 Silver =  17 Bronze =  19\n",
      "China        Gold =  38 Silver =  28 Bronze =  22\n",
      "Russia        Gold =  24 Silver =  25 Bronze =  32\n",
      "United States        Gold =  46 Silver =  28 Bronze =  29\n",
      "Korea        Gold =  13 Silver =  8 Bronze =  7\n",
      "Japan        Gold =  7 Silver =  14 Bronze =  17\n",
      "Germany        Gold =  11 Silver =  11 Bronze =  14\n"
     ]
    }
   ],
   "source": [
    "\n",
    "for i in range(len(country)):\n",
    "    print(country[i],\"       Gold = \",gold[i],\"Silver = \",silver[i],\"Bronze = \",bronze[i])"
   ]
  },
  {
   "cell_type": "code",
   "execution_count": 1,
   "id": "c752c71e",
   "metadata": {},
   "outputs": [],
   "source": [
    "#Scipy practice\n",
    "\n",
    "from scipy.integrate import quad\n"
   ]
  },
  {
   "cell_type": "code",
   "execution_count": 2,
   "id": "9775024f",
   "metadata": {},
   "outputs": [],
   "source": [
    "def func1(x):\n",
    "    return x**2;"
   ]
  },
  {
   "cell_type": "code",
   "execution_count": null,
   "id": "f860ebee",
   "metadata": {},
   "outputs": [],
   "source": []
  }
 ],
 "metadata": {
  "kernelspec": {
   "display_name": "Python 3",
   "language": "python",
   "name": "python3"
  },
  "language_info": {
   "codemirror_mode": {
    "name": "ipython",
    "version": 3
   },
   "file_extension": ".py",
   "mimetype": "text/x-python",
   "name": "python",
   "nbconvert_exporter": "python",
   "pygments_lexer": "ipython3",
   "version": "3.9.5"
  }
 },
 "nbformat": 4,
 "nbformat_minor": 5
}
